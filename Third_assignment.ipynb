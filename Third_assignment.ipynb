{
 "cells": [
  {
   "cell_type": "code",
   "execution_count": 2,
   "id": "138f1da9-d6ed-434f-8a40-dba6964f5a24",
   "metadata": {},
   "outputs": [
    {
     "name": "stdout",
     "output_type": "stream",
     "text": [
      "varuaG\n"
     ]
    }
   ],
   "source": [
    "#Question 1. Write a code to reverse a string.\n",
    "\n",
    "#Answer :-\n",
    "\n",
    "a= 'Gaurav'\n",
    "\n",
    "print(a[::-1])\n"
   ]
  },
  {
   "cell_type": "code",
   "execution_count": 16,
   "id": "885cd26c-924c-437f-b0ed-269aa750fdb2",
   "metadata": {},
   "outputs": [
    {
     "name": "stdout",
     "output_type": "stream",
     "text": [
      "3\n"
     ]
    }
   ],
   "source": [
    "#Question 2. Write a code to count the number of vowels in a string.\n",
    "\n",
    "#Answer : -\n",
    "\n",
    "a='gaurav'\n",
    "f=['a','o','i','e','u']\n",
    "count=0\n",
    "\n",
    "def count_vowal(a):\n",
    "    count=0\n",
    "    for i in a:\n",
    "        if i in f:\n",
    "            count+=1\n",
    "    return(count)   \n",
    "            \n",
    "            \n",
    "print(count_vowal(a))"
   ]
  },
  {
   "cell_type": "code",
   "execution_count": 19,
   "id": "614b26bb-b1be-45f3-9768-f4158abf987d",
   "metadata": {},
   "outputs": [
    {
     "name": "stdin",
     "output_type": "stream",
     "text": [
      "enter your word qwe\n"
     ]
    },
    {
     "name": "stdout",
     "output_type": "stream",
     "text": [
      "not a palindrome\n"
     ]
    }
   ],
   "source": [
    "#Question 3. Write a code to check if a given string is a palindrome or not.\n",
    "\n",
    "#Answer :-\n",
    "a=input('enter your word')\n",
    "\n",
    "def name(a):\n",
    "    if a==a[::-1]:\n",
    "        print('palindrome')\n",
    "    else:\n",
    "        print('not a palindrome')\n",
    "        \n",
    "        \n",
    "        \n",
    "name(a)\n",
    "\n",
    "\n"
   ]
  },
  {
   "cell_type": "code",
   "execution_count": 28,
   "id": "f26422cc-4a69-4324-b6da-b215f9b22b1e",
   "metadata": {},
   "outputs": [
    {
     "name": "stdin",
     "output_type": "stream",
     "text": [
      "enter first string arc\n",
      "enter second string car\n"
     ]
    },
    {
     "name": "stdout",
     "output_type": "stream",
     "text": [
      "anagram\n"
     ]
    }
   ],
   "source": [
    "#Question 4. Write a code to check if two given strings are anagrams of each other.\n",
    "\n",
    "#Answer :-\n",
    "\n",
    "str1=input('enter first string')\n",
    "str2=input('enter second string')\n",
    "\n",
    "if sorted(str1) == sorted(str2):\n",
    "    print('anagram')\n",
    "else:\n",
    "    print('not an anagramn')\n"
   ]
  },
  {
   "cell_type": "code",
   "execution_count": 35,
   "id": "56d16c67-7e34-44b4-9bad-f540c92d8d75",
   "metadata": {},
   "outputs": [
    {
     "name": "stdout",
     "output_type": "stream",
     "text": [
      "my 1\n"
     ]
    }
   ],
   "source": [
    "#Question 5 .Write a code to find all occurrences of a given substring within another string.\n",
    "\n",
    "a='Hello my friends'\n",
    "b='my'\n",
    "count=a.count(b)\n",
    "\n",
    "print(b,count)\n",
    "\n",
    "\n"
   ]
  },
  {
   "cell_type": "code",
   "execution_count": 8,
   "id": "e5a8b239-712f-42f2-b3c5-cc88d0c3d45b",
   "metadata": {},
   "outputs": [
    {
     "name": "stdin",
     "output_type": "stream",
     "text": [
      "enter qqqqqqqww\n"
     ]
    },
    {
     "name": "stdout",
     "output_type": "stream",
     "text": [
      "7q8w\n"
     ]
    }
   ],
   "source": [
    "#Question 6 Write a code to perform basic string compression using the counts of repeated characters.\n",
    "\n",
    "#Answer:-\n",
    "\n",
    "\n",
    "str1=input('enter')\n",
    "char=str1[0]\n",
    "result=''\n",
    "str1=str1+\" \"\n",
    "\n",
    "count=0\n",
    "\n",
    "\n",
    "for x in str1:\n",
    "    if x == char:\n",
    "        count+=1\n",
    "    else:\n",
    "        result=result+str(count)+str(char)\n",
    "        char=x\n",
    "print(result)\n",
    "\n",
    "\n"
   ]
  },
  {
   "cell_type": "code",
   "execution_count": 16,
   "id": "7e8a6948-273d-4758-bb0e-faaf7f8b4396",
   "metadata": {},
   "outputs": [
    {
     "name": "stdout",
     "output_type": "stream",
     "text": [
      "Str have all unique character\n"
     ]
    }
   ],
   "source": [
    "#Question 7 .Write a code to determine if a string has all unique characters.\n",
    "\n",
    "str1='gaurv'\n",
    "set1=set(str1)\n",
    "\n",
    "if len(str1)==len(set1):\n",
    "    print('Str have all unique character')\n",
    "else:\n",
    "    print('not a unique character')\n"
   ]
  },
  {
   "cell_type": "code",
   "execution_count": 19,
   "id": "8a51024d-55dc-4cae-a8b5-3358f924e7f2",
   "metadata": {},
   "outputs": [
    {
     "name": "stdout",
     "output_type": "stream",
     "text": [
      "GAURAV\n",
      "gaurav\n"
     ]
    }
   ],
   "source": [
    "#question 8 .Write a code to convert a given string to uppercase or lowercase.\n",
    "str1='gaurav'\n",
    "\n",
    "upper=str1.upper()\n",
    "print(upper)\n",
    "\n",
    "\n",
    "\n",
    "str1='GAURAV'\n",
    "\n",
    "upper=str1.lower()\n",
    "print(upper)"
   ]
  },
  {
   "cell_type": "code",
   "execution_count": 5,
   "id": "9eccebb8-2fca-46d1-90f5-7cab141477d7",
   "metadata": {},
   "outputs": [
    {
     "name": "stdin",
     "output_type": "stream",
     "text": [
      "enter jihd js\n"
     ]
    },
    {
     "name": "stdout",
     "output_type": "stream",
     "text": [
      "2\n"
     ]
    }
   ],
   "source": [
    "#question 9. Write a code to count the number of words in a string.\n",
    "\n",
    "word=input('enter')\n",
    "saperate_word=word.split()\n",
    "length=len(saperate_word)\n",
    "           \n",
    "print(length)\n",
    "\n"
   ]
  },
  {
   "cell_type": "code",
   "execution_count": 9,
   "id": "5bb0ad3e-6bb2-42c4-9d90-1d828b315171",
   "metadata": {},
   "outputs": [
    {
     "name": "stdout",
     "output_type": "stream",
     "text": [
      "hama nama\n"
     ]
    }
   ],
   "source": [
    "#Question 10 .Write a code to concatenate two strings without using the + operator.\n",
    "\n",
    "#answer:-\n",
    "str1='hama'\n",
    "str2=' nama'\n",
    "ste3=''.join([str1,str2])\n",
    "print(ste3)\n"
   ]
  },
  {
   "cell_type": "code",
   "execution_count": 21,
   "id": "7081a858-4664-4956-a8d6-388a7fbee87b",
   "metadata": {},
   "outputs": [
    {
     "name": "stdout",
     "output_type": "stream",
     "text": [
      "['my']\n"
     ]
    }
   ],
   "source": [
    "#Question 11. Write a code to remove all occurrences of a specific element from a list.\n",
    "\n",
    "#Answer :-\n",
    "a=['Hello', 'my',' friends']\n",
    "b='my'\n",
    "\n",
    "for b in a:\n",
    "    a.remove(b)\n",
    "    \n",
    "print(a)"
   ]
  },
  {
   "cell_type": "code",
   "execution_count": 16,
   "id": "c941ceb4-ff3e-4c8b-bbd5-e93b6a2b33c8",
   "metadata": {},
   "outputs": [
    {
     "name": "stdin",
     "output_type": "stream",
     "text": [
      "enter 3\n",
      "please enter 2\n",
      "please enter 3\n",
      "please enter 1\n"
     ]
    },
    {
     "name": "stdout",
     "output_type": "stream",
     "text": [
      "original list: [2, 3, 1]\n",
      "sorted list: [1, 2, 3]\n",
      "second largest number: 2\n"
     ]
    }
   ],
   "source": [
    "#Question 12. Implement a code to find the second largest number in a given list of integers .\n",
    "\n",
    "#Answer :-\n",
    "_list=int(input('enter'))\n",
    "create_list=[]\n",
    "\n",
    "for i in  range(_list):\n",
    "    new=int(input('please enter'))\n",
    "    create_list.append(new)\n",
    "print('original list:',create_list)\n",
    "\n",
    "create_list.sort()\n",
    "print('sorted list:',create_list)\n",
    "\n",
    "print('second largest number:',create_list[-2])\n",
    "\n"
   ]
  },
  {
   "cell_type": "code",
   "execution_count": 2,
   "id": "764a0cfb-aa5d-452d-babd-c632d72b12ec",
   "metadata": {},
   "outputs": [
    {
     "name": "stdout",
     "output_type": "stream",
     "text": [
      "{1: 2, 2: 1, 'gaurav': 2, 'g': 1}\n"
     ]
    }
   ],
   "source": [
    "#Question 13. Create a code to count the occurrences of each element in a list and return a dictionary with elements as keys and their counts as values\n",
    "\n",
    "#Answer :-\n",
    "\n",
    "elem=[1,2,1,'gaurav','g','gaurav']\n",
    "elem2={}\n",
    "count=0\n",
    "\n",
    "for i in elem:\n",
    "    if i in elem2:\n",
    "        elem2[i]+=1\n",
    "    else:\n",
    "        elem2[i]=1\n",
    "        \n",
    "        \n",
    "print(elem2)\n",
    "\n"
   ]
  },
  {
   "cell_type": "code",
   "execution_count": 3,
   "id": "ebc8f8cd-da55-47c9-950e-fb5c412884a4",
   "metadata": {},
   "outputs": [
    {
     "name": "stdout",
     "output_type": "stream",
     "text": [
      "['gaurav', 4, 3, 2, 1]\n"
     ]
    }
   ],
   "source": [
    " # Question 14 . Write a code to reverse a list in-place without using any built-in reverse functions\n",
    "\n",
    "#answer:-\n",
    "new_list=[1,2,3,4,'gaurav']\n",
    "reversed_list=new_list[::-1]\n",
    "print(reversed_list)\n",
    "\n",
    "\n",
    "\n"
   ]
  },
  {
   "cell_type": "code",
   "execution_count": 5,
   "id": "2020a8e7-e57a-4385-ba68-fae2960c1675",
   "metadata": {},
   "outputs": [
    {
     "name": "stdout",
     "output_type": "stream",
     "text": [
      "[1, 2, 144, 55, 66, 33, 44, 4544]\n"
     ]
    }
   ],
   "source": [
    "#Questionn 15.Implement a code to find and remove duplicates from a list while preserving the original order of elements.\n",
    "\n",
    "#answer:-\n",
    "\n",
    "second=[1,1,2,2,2,1,1,144,55,66,2,55,144,33,44,55,4544]\n",
    "unique_list=[]\n",
    "\n",
    "\n",
    "for i in second:\n",
    "    if i not in unique_list: \n",
    "        unique_list.append(i)\n",
    "\n",
    "print(unique_list)\n",
    "    \n"
   ]
  },
  {
   "cell_type": "code",
   "execution_count": 6,
   "id": "30b9e41d-6865-47ce-8188-913273d9a23b",
   "metadata": {},
   "outputs": [
    {
     "name": "stdin",
     "output_type": "stream",
     "text": [
      "num 3\n"
     ]
    },
    {
     "name": "stdout",
     "output_type": "stream",
     "text": [
      "the list is sorted and acendind\n"
     ]
    }
   ],
   "source": [
    "#Question 16. Create a code to check if a given list is sorted (either in ascending or descending order) or no\n",
    "\n",
    "#answer:-\n",
    "\n",
    "m=input('num')\n",
    "third=[int(num) for num in m.split(\",\")]\n",
    "if third == sorted(third):\n",
    "    print('the list is sorted and acendind')\n",
    "elif third == sorted(third, reverse = True):\n",
    "    print('the list is sorted and decondi ')\n",
    "else:\n",
    "    print('the list is not sorted')\n"
   ]
  },
  {
   "cell_type": "code",
   "execution_count": 16,
   "id": "938344e5-4452-4a85-b196-ebb476deff43",
   "metadata": {},
   "outputs": [
    {
     "name": "stdout",
     "output_type": "stream",
     "text": [
      "[1, 2, 3, 12, 44, 45, 56, 66, 77]\n"
     ]
    }
   ],
   "source": [
    "#Question 17. Write a code to merge two sorted lists into a single sorted list.\n",
    "\n",
    "#Answer:-\n",
    "\n",
    "List_a=[1,2,3,45]\n",
    "List_b=[12,44,66,77,56]\n",
    "merge_list=[]\n",
    "\n",
    "if List_a==sorted(List_a):\n",
    "    merge_list=List_a+List_b\n",
    "    merge_list.sort()\n",
    "    print(merge_list)"
   ]
  },
  {
   "cell_type": "code",
   "execution_count": 26,
   "id": "80bffa89-f1eb-494d-ac9e-0114694136dc",
   "metadata": {},
   "outputs": [
    {
     "name": "stdout",
     "output_type": "stream",
     "text": [
      "[1, 2, 3]\n"
     ]
    }
   ],
   "source": [
    "#Question 18. Implement a code to find the intersection of two given lists.\n",
    "\n",
    "#answer:-\n",
    "\n",
    "li=[1,2,3,5,6]\n",
    "li2=[1,2,3,9,0,88]\n",
    "\n",
    "lis3=[]\n",
    "\n",
    "for i in li:\n",
    "    if i in li2:\n",
    "        lis3.append(i)\n",
    "        \n",
    "       \n",
    "        \n",
    "print(lis3)\n"
   ]
  },
  {
   "cell_type": "code",
   "execution_count": 36,
   "id": "146df231-f096-445c-b680-34b8a6b5506c",
   "metadata": {},
   "outputs": [
    {
     "name": "stdout",
     "output_type": "stream",
     "text": [
      "[0, 1, 2, 3, 5, 6, 9, 88]\n"
     ]
    }
   ],
   "source": [
    "#question !9 .Create a code to find the union of two lists without duplicates.\n",
    "\n",
    "#Answer:-\n",
    "\n",
    "\n",
    "li=[1,2,3,5,6]\n",
    "li2=[1,2,3,9,0,88]\n",
    "\n",
    "li3=li+li2\n",
    "\n",
    "depl=list(set(li3))\n",
    "print(depl)\n",
    "\n"
   ]
  },
  {
   "cell_type": "code",
   "execution_count": 39,
   "id": "eeefbf23-5ae3-47a9-98c5-526e7c432f16",
   "metadata": {},
   "outputs": [
    {
     "name": "stdout",
     "output_type": "stream",
     "text": [
      "[0, 1, 2, 3, 9, 88]\n"
     ]
    }
   ],
   "source": [
    "#Question 20. Write a code to shuffle a given list randomly without using any built-in shuffle functions.\n",
    "\n",
    "#answer :-\n",
    "\n",
    "li2=[1,2,3,9,0,88]\n",
    "depl=list(set(li2))\n",
    "\n",
    "print(depl)\n",
    "\n"
   ]
  },
  {
   "cell_type": "code",
   "execution_count": 5,
   "id": "eb21941d-0b93-4c74-b909-1cca413ea472",
   "metadata": {},
   "outputs": [
    {
     "name": "stdin",
     "output_type": "stream",
     "text": [
      " 123\n",
      " 434\n"
     ]
    },
    {
     "name": "stdout",
     "output_type": "stream",
     "text": [
      "('3',)\n"
     ]
    }
   ],
   "source": [
    "#Question 21.Write a code that takes two tuples as input and returns a new tuple containing elements that are common to both input tuples\n",
    "\n",
    "#Answer:-\n",
    "li=input()\n",
    "tup=tuple(li)\n",
    "\n",
    "li2=input()\n",
    "tup2=tuple(li2)\n",
    "\n",
    "\n",
    "set1=set(tup)\n",
    "set2=set(tup2)\n",
    "\n",
    "common=set1&set2\n",
    "\n",
    "common_tuple=tuple(common)\n",
    "print(common_tuple)\n",
    "\n",
    "\n"
   ]
  },
  {
   "cell_type": "code",
   "execution_count": 22,
   "id": "0b9d2883-6d77-4ef7-9747-63235dff67ce",
   "metadata": {},
   "outputs": [
    {
     "name": "stdin",
     "output_type": "stream",
     "text": [
      "enter 12\n",
      "enter 12\n"
     ]
    },
    {
     "name": "stdout",
     "output_type": "stream",
     "text": [
      "{'2', '1'}\n",
      "{'2', '1'}\n",
      "{'2', '1'}\n"
     ]
    }
   ],
   "source": [
    "# Question 22.Create a code that prompts the user to enter two sets of integers separated by commas. Then, print the intersection of these two sets\n",
    "\n",
    "#Answer :-\n",
    "\n",
    "s1=input('enter')\n",
    "s2=input('enter')\n",
    "\n",
    "set1=set(s1)\n",
    "set2=set(s2)\n",
    "print(set1)\n",
    "print(set2)\n",
    "\n",
    "intersector=set1&set2\n",
    "\n",
    "print(intersector)\n"
   ]
  },
  {
   "cell_type": "code",
   "execution_count": 30,
   "id": "c76fa4c4-d9f3-494a-aa89-498862c008e0",
   "metadata": {},
   "outputs": [
    {
     "name": "stdin",
     "output_type": "stream",
     "text": [
      " 12\n",
      " gaurav\n"
     ]
    },
    {
     "name": "stdout",
     "output_type": "stream",
     "text": [
      "('12', 'gaurav')\n"
     ]
    }
   ],
   "source": [
    "#question 23. Write a code to concatenate two tuples. The function should take two tuples as input and return a new tuple containing elements from both input tuples.\n",
    "\n",
    "#Answer :-\n",
    "\n",
    "li=input()\n",
    "tup1=tuple(li.split( ))\n",
    "\n",
    "li2=input()\n",
    "tup2=tuple(li2.split( ))\n",
    "\n",
    "con=tup1+tup2\n",
    "\n",
    "print(con)"
   ]
  },
  {
   "cell_type": "code",
   "execution_count": 31,
   "id": "dce26836-4f45-4213-bb02-eeefe15ea233",
   "metadata": {},
   "outputs": [
    {
     "name": "stdin",
     "output_type": "stream",
     "text": [
      "first 123\n",
      "second 234\n"
     ]
    },
    {
     "name": "stdout",
     "output_type": "stream",
     "text": [
      "{'1'}\n"
     ]
    }
   ],
   "source": [
    "#Question 24.Develop a code that prompts the user to input two sets of strings. Then, print the elements that are present in the first set but not in the second set\n",
    "\n",
    "#Answer :-\n",
    "\n",
    "s1=input('first')\n",
    "s2=input('second')\n",
    "\n",
    "set1=set(s1)\n",
    "set2=set(s2)\n",
    "\n",
    "diff=set1-set2\n",
    "print(diff)\n",
    "\n"
   ]
  },
  {
   "cell_type": "code",
   "execution_count": null,
   "id": "1af85320-38a1-45f1-a94b-ade690269b87",
   "metadata": {},
   "outputs": [],
   "source": [
    "#Question 25.Create a code that takes a tuple and two integers as input. The function should return a new tuple containing elements from the original tuple within the specified range of indice.\n",
    "\n",
    "#Answer:-\n",
    "input_tuple=tuple(map(int,input('enter num').split()))\n",
    "start=int(input('enter the start'))\n",
    "end=int(input('enter the end'))\n",
    "\n",
    "if start<0 or end >len(input_tuple):\n",
    "    print('out of the range')\n",
    "else:\n",
    "    sub_tuple=input(start:end)\n",
    "    print(sub_tuple)"
   ]
  },
  {
   "cell_type": "code",
   "execution_count": 2,
   "id": "fdd32100-5afe-4399-b5a5-cdf2af21b4ae",
   "metadata": {},
   "outputs": [
    {
     "name": "stdin",
     "output_type": "stream",
     "text": [
      " 12345\n",
      " 668790\n"
     ]
    },
    {
     "name": "stdout",
     "output_type": "stream",
     "text": [
      "{'9', '6', '3', '7', '5', '2', '1', '8', '0', '4'}\n"
     ]
    }
   ],
   "source": [
    "#Question 26 .write a code that prompts the user to input two sets of characters. Then, print the union of these two sets\n",
    "\n",
    "#Answer:-\n",
    "\n",
    "s1=input()\n",
    "s2=input()\n",
    "\n",
    "set1=set(s1)\n",
    "set2=set(s2)\n",
    "\n",
    "union=set1|set2\n",
    "print(union)"
   ]
  },
  {
   "cell_type": "code",
   "execution_count": 19,
   "id": "57baef33-2795-470f-b1cb-d81fecbb8439",
   "metadata": {},
   "outputs": [
    {
     "name": "stdin",
     "output_type": "stream",
     "text": [
      " 1253\n"
     ]
    },
    {
     "name": "stdout",
     "output_type": "stream",
     "text": [
      "('1', '2', '3', '5')\n",
      "Maximum: 5\n",
      "Minimum: 1\n"
     ]
    }
   ],
   "source": [
    "#Question 27.Develop a code that takes a tuple of integers as input. The function should return the maximum and minimum values from the tuple using tuple unpacking.\n",
    "\n",
    "#Answer:-\n",
    "\n",
    "inp=input('')\n",
    "li=list(inp)\n",
    "li.sort()\n",
    "tup=tuple(li)\n",
    "print(tup)\n",
    "\n",
    "print('Maximum:',tup[-1])\n",
    "print('Minimum:',tup[0])"
   ]
  },
  {
   "cell_type": "code",
   "execution_count": 3,
   "id": "29b71fb9-5c78-4bc4-9ff8-bfedd1952890",
   "metadata": {},
   "outputs": [
    {
     "name": "stdout",
     "output_type": "stream",
     "text": [
      "union: {1, 2, 3, 4, 5, 6, 7, 8}\n",
      "intersection: {4, 5}\n",
      "differce: {1, 2, 3}\n",
      "symmetric difference {1, 2, 3, 6, 7, 8}\n"
     ]
    }
   ],
   "source": [
    "#Question 28.Create a code that defines two sets of integers. Then, print the union, intersection, and difference of these two sets.\n",
    "\n",
    "#Answer:-\n",
    "\n",
    "s1={1,2,3,4,5}\n",
    "s2={4,5,6,7,8}\n",
    "\n",
    "union=s1|s2\n",
    "intersection=s1&s2\n",
    "Difference=s1-s2\n",
    "#extra I learn in class\n",
    "symmetric_difference=s1^s2\n",
    "\n",
    "print('union:',union)\n",
    "print('intersection:',intersection)\n",
    "print('differce:',Difference)\n",
    "print('symmetric difference',symmetric_difference)\n",
    "\n",
    "\n",
    "\n"
   ]
  },
  {
   "cell_type": "code",
   "execution_count": 7,
   "id": "e36a4c2f-c18a-40bb-8403-42a930f33a51",
   "metadata": {},
   "outputs": [
    {
     "name": "stdin",
     "output_type": "stream",
     "text": [
      "enter gaurav is is \n",
      "num is\n"
     ]
    },
    {
     "name": "stdout",
     "output_type": "stream",
     "text": [
      "2\n"
     ]
    }
   ],
   "source": [
    "#Question 29 .Write a code that takes a tuple and an element as input. The function should return the count of occurrences of the given element in the tuple\n",
    "\n",
    "#Answer:-\n",
    "\n",
    "tup=tuple(input('enter').split())\n",
    "find=input('enter you what is you finding')\n",
    "count=tup.count(find)\n",
    "print(count)"
   ]
  },
  {
   "cell_type": "code",
   "execution_count": 18,
   "id": "a1f2c62b-532b-4026-814c-4a3cd458451e",
   "metadata": {},
   "outputs": [
    {
     "name": "stdin",
     "output_type": "stream",
     "text": [
      "enter my name is gaurav \n",
      "enter my son is rahul\n"
     ]
    },
    {
     "name": "stdout",
     "output_type": "stream",
     "text": [
      "{'gaurav', 'rahul', 'son', 'name'}\n"
     ]
    }
   ],
   "source": [
    "#Question 30.Develop a code that prompts the user to input two sets of strings. Then, print the symmetric difference of these two sets.\n",
    "\n",
    "#answer:-\n",
    "6\n",
    "one=str(input('enter'))\n",
    "two=str(input('enter'))\n",
    "\n",
    "set1=set(one.split())\n",
    "set2=set(two.split())\n",
    "\n",
    "symmetric_diff=set1^set2\n",
    "print(symmetric_diff)\n",
    "\n"
   ]
  },
  {
   "cell_type": "code",
   "execution_count": 10,
   "id": "63954eb0-9d50-45b0-a1b9-7a6951aad537",
   "metadata": {},
   "outputs": [
    {
     "name": "stdin",
     "output_type": "stream",
     "text": [
      "enter word with space is is \n"
     ]
    },
    {
     "name": "stdout",
     "output_type": "stream",
     "text": [
      "{'is': 2, '': 1}\n"
     ]
    }
   ],
   "source": [
    "#question 31. Write a code that takes a list of words as input and returns a dictionary where the keys are unique words and the values are the frequencies of those words in the input list\n",
    "\n",
    "#Answer:-\n",
    "li=input('enter word with space')\n",
    "a=list(li.split(' '))\n",
    "\n",
    "dic={}\n",
    "\n",
    "for i in a:\n",
    "    if i in dic:\n",
    "        dic[i]+=1\n",
    "    else:\n",
    "        dic[i]=1\n",
    "print(dic)"
   ]
  },
  {
   "cell_type": "code",
   "execution_count": 25,
   "id": "c49c0627-17e9-472e-964d-cee956ba5524",
   "metadata": {},
   "outputs": [
    {
     "name": "stdin",
     "output_type": "stream",
     "text": [
      "enter the element 2\n",
      "enter the key a\n",
      "enyer the value 1\n",
      "enter the key b\n",
      "enyer the value 2\n"
     ]
    },
    {
     "name": "stdout",
     "output_type": "stream",
     "text": [
      "{'a': 1, 'b': 2}\n"
     ]
    },
    {
     "name": "stdin",
     "output_type": "stream",
     "text": [
      "enter the element 2\n",
      "enter the key b\n",
      "enyer the value 2\n",
      "enter the key c\n",
      "enyer the value 3\n"
     ]
    },
    {
     "name": "stdout",
     "output_type": "stream",
     "text": [
      "{'b': 2, 'c': 3}\n",
      "{'a': 1, 'b': 4, 'c': 3}\n"
     ]
    }
   ],
   "source": [
    "# Question 32. Write a code that takes two dictionaries as input and merges them into a single dictionary. If there are common keys, the values should be added together.\n",
    "\n",
    "#answer :-\n",
    "dic1={}\n",
    "lengh=int(input('enter the element'))\n",
    "\n",
    "\n",
    "for i in range(lengh):\n",
    "    key = input('enter the key')\n",
    "    value=int(input('enyer the value')) \n",
    "    dic1[key]=value\n",
    "    \n",
    "print(dic1)\n",
    "    \n",
    "dic2={}\n",
    "lengh2=int(input('enter the element'))\n",
    "\n",
    "for j in range(lengh2):\n",
    "    key = input('enter the key')\n",
    "    value=int(input('enyer the value'))\n",
    "    dic2[key]=value\n",
    "    \n",
    "print(dic2)\n",
    "\n",
    "merge=dic1.copy()\n",
    "\n",
    "for key,value in dic2.items():\n",
    "    if key in merge:\n",
    "        merge[key]+=value\n",
    "    else :\n",
    "        merge[key]=value\n",
    "print(merge)\n",
    "\n"
   ]
  },
  {
   "cell_type": "code",
   "execution_count": 1,
   "id": "9e53ee20-c993-4a82-b0a9-38a19ca1ee53",
   "metadata": {},
   "outputs": [
    {
     "name": "stdout",
     "output_type": "stream",
     "text": [
      "value\n"
     ]
    }
   ],
   "source": [
    "#Question 33. Write a code to access a value in a nested dictionary. The function should take the dictionary and a list of keys as input, and return the corresponding value. If any of the keys do not exist in the dictionary, the function should return None.\n",
    "\n",
    "#Answer:\n",
    "\n",
    "def get_nested_value(dictionary, keys):\n",
    "    current = dictionary\n",
    "    for key in keys:\n",
    "        if isinstance(current, dict) and key in current:\n",
    "            current = current[key]\n",
    "        else:\n",
    "            return None\n",
    "    return current\n",
    "\n",
    "nested_dict = {\n",
    "    'a': {\n",
    "        'b': {\n",
    "            'c': 1,\n",
    "            'd': 2\n",
    "        },\n",
    "        'e': 3\n",
    "    },\n",
    "    'f': 4\n",
    "}\n",
    "\n",
    "l= ['a', 'b', 'c']\n",
    "# Test cases\n",
    "print(get_nested_value(nested_dict, l)) \n"
   ]
  },
  {
   "cell_type": "code",
   "execution_count": null,
   "id": "67772d9e-d12f-4b62-b391-e7fb1c78f4a6",
   "metadata": {},
   "outputs": [],
   "source": [
    "#Question 34. Write a code that takes a dictionary as input and returns a sorted version of it based on the values. You can choose whether to sort in ascending or descending order.\n",
    "\n",
    "#Answer:-\n",
    "\n",
    "\n",
    "dic={}\n",
    "lengh=int(input('enter the element'))\n",
    "\n",
    "\n",
    "for i in range(lengh):\n",
    "    key = input('enter the key')\n",
    "    value=int(input('enyer the value')) \n",
    "    dic1[key]=value\n",
    "    \n",
    "print(dic)\n",
    "\n",
    "sorting=input('acending:(yes/ no)').split().lower()\n",
    "acending=soring==yes\n",
    "\n",
    "assc=dict(sorted(dic.item(),key=lambda items: items[1],reversed=not acending))\n",
    "print(assc)\n",
    "    \n"
   ]
  },
  {
   "cell_type": "code",
   "execution_count": null,
   "id": "bf9bf3ed-2c7c-45ef-a496-1644f452bbd8",
   "metadata": {},
   "outputs": [],
   "source": [
    "#Question 35. Write a code that inverts a dictionary, swapping keys and values. Ensure that the inverted dictionary correctly handles cases where multiple keys have the same value by storing the keys as a list in the inverted dictionary.\n",
    "\n",
    "#Answer:-\n",
    "\n",
    "\n",
    "dic={}\n",
    "lengh=int(input('enter the element'))\n",
    "\n",
    "\n",
    "for i in range(lengh):\n",
    "    key = input('enter the key')\n",
    "    value=int(input('enyer the value')) \n",
    "    dic1[key]=value\n",
    "    \n",
    "print(dic)\n",
    "invert={}\n",
    "for key,value in dic.item():\n",
    "    if value in invert:\n",
    "        invert[value]=invert.append(key)\n",
    "    else:\n",
    "        invert[value]=key\n",
    "print(invert)\n",
    "\n",
    "\n",
    "\n"
   ]
  }
 ],
 "metadata": {
  "kernelspec": {
   "display_name": "Python 3 (ipykernel)",
   "language": "python",
   "name": "python3"
  },
  "language_info": {
   "codemirror_mode": {
    "name": "ipython",
    "version": 3
   },
   "file_extension": ".py",
   "mimetype": "text/x-python",
   "name": "python",
   "nbconvert_exporter": "python",
   "pygments_lexer": "ipython3",
   "version": "3.10.8"
  }
 },
 "nbformat": 4,
 "nbformat_minor": 5
}
